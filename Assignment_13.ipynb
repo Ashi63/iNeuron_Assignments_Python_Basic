{
 "cells": [
  {
   "cell_type": "markdown",
   "id": "22c63418",
   "metadata": {},
   "source": [
    "#### 1. What advantages do Excel spreadsheets have over CSV spreadsheets?"
   ]
  },
  {
   "cell_type": "markdown",
   "id": "102b497f",
   "metadata": {},
   "source": [
    "- In Excel, \n",
    "- spreadsheets can have values of datatypes other than strings. \n",
    "- cells can have different fonts, sizes, or color settings. \n",
    "- cells can have varying widths and heights. \n",
    "- adjecent cells can be merged.\n",
    "- we can embed images and charts."
   ]
  },
  {
   "cell_type": "markdown",
   "id": "6f9ba900",
   "metadata": {},
   "source": [
    "#### 2. What do you pass to csv.reader() and csv.writer() to create reader and writer objects?"
   ]
  },
  {
   "cell_type": "markdown",
   "id": "e15586e7",
   "metadata": {},
   "source": [
    "- We pass a file object, obtained from call to open()."
   ]
  },
  {
   "cell_type": "markdown",
   "id": "a804f97f",
   "metadata": {},
   "source": [
    "#### 3. What modes do File objects for reader and writer objects need to be opened in?"
   ]
  },
  {
   "cell_type": "markdown",
   "id": "0e319a65",
   "metadata": {},
   "source": [
    "- File objects need to be opened in \n",
    "- read-binary ('rb') for reader objects and \n",
    "- write-binary ('wb') fro writer objects."
   ]
  },
  {
   "cell_type": "markdown",
   "id": "681962bb",
   "metadata": {},
   "source": [
    "#### 4. What method takes a list argument and writes it to a CSV file?"
   ]
  },
  {
   "cell_type": "markdown",
   "id": "86aae6b4",
   "metadata": {},
   "source": [
    "- writerrow() method."
   ]
  },
  {
   "cell_type": "markdown",
   "id": "7757950b",
   "metadata": {},
   "source": [
    "#### 5. What do the keyword arguments delimiter and line terminator do?"
   ]
  },
  {
   "cell_type": "markdown",
   "id": "23659054",
   "metadata": {},
   "source": [
    "- The delimeter argument change the string used to separate cells in a row. \n",
    "- The lineterminator argument changes the string used to separate rows."
   ]
  },
  {
   "cell_type": "markdown",
   "id": "a1c62654",
   "metadata": {},
   "source": [
    "#### 6. What function takes a string of JSON data and returns a Python data structure?"
   ]
  },
  {
   "cell_type": "markdown",
   "id": "3c88da0e",
   "metadata": {},
   "source": [
    "- json.loads() takes a string of JSON data and returns a Python data structure."
   ]
  },
  {
   "cell_type": "markdown",
   "id": "952d61b1",
   "metadata": {},
   "source": [
    "#### 7. What function takes a Python data structure and returns a string of JSON data?"
   ]
  },
  {
   "cell_type": "markdown",
   "id": "8cba2bfc",
   "metadata": {},
   "source": [
    "- json.dumps() function takes a Python data structure and returns a string of JSON data."
   ]
  },
  {
   "cell_type": "code",
   "execution_count": null,
   "id": "de9ccf50",
   "metadata": {},
   "outputs": [],
   "source": []
  }
 ],
 "metadata": {
  "kernelspec": {
   "display_name": "Python 3 (ipykernel)",
   "language": "python",
   "name": "python3"
  },
  "language_info": {
   "codemirror_mode": {
    "name": "ipython",
    "version": 3
   },
   "file_extension": ".py",
   "mimetype": "text/x-python",
   "name": "python",
   "nbconvert_exporter": "python",
   "pygments_lexer": "ipython3",
   "version": "3.10.5"
  }
 },
 "nbformat": 4,
 "nbformat_minor": 5
}
