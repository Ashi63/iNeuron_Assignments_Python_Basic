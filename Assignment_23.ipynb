{
 "cells": [
  {
   "cell_type": "markdown",
   "id": "32f84084",
   "metadata": {},
   "source": [
    "#### 1. What is the result of the code, and why?\n",
    "\n",
    "def func(a, b=6, c=8):\n",
    "\n",
    "    print(a, b, c)\n",
    "\n",
    "func(1, 2)\n",
    "\n"
   ]
  },
  {
   "cell_type": "code",
   "execution_count": 2,
   "id": "0cedc3a0",
   "metadata": {},
   "outputs": [
    {
     "name": "stdout",
     "output_type": "stream",
     "text": [
      "1 2 8\n"
     ]
    }
   ],
   "source": [
    "def func(a, b=6, c=8):\n",
    "    print(a, b, c)\n",
    "func(1, 2)"
   ]
  },
  {
   "cell_type": "markdown",
   "id": "32994141",
   "metadata": {},
   "source": [
    "- flow of programe\n",
    "    - def fun(a,b=6,c=8) ----->  function func() is created with parameters a,b=6,c=8\n",
    "    - func()             ----->  function is called with arguments passed a=1,b=2\n",
    "    \n",
    "        - inside function --------> parameters becomes a=1, b is overritten as 2 and c =8. and printed as 1,2,8\n"
   ]
  },
  {
   "cell_type": "markdown",
   "id": "0dc2803c",
   "metadata": {},
   "source": [
    "#### 2. What is the result of this code, and why?\n",
    "\n",
    "def func(a, b, c=5):\n",
    "\n",
    "    print(a, b, c)\n",
    "    \n",
    "func(1, c=3, b=2)\n"
   ]
  },
  {
   "cell_type": "code",
   "execution_count": 4,
   "id": "fee29b5d",
   "metadata": {},
   "outputs": [
    {
     "name": "stdout",
     "output_type": "stream",
     "text": [
      "1 2 3\n"
     ]
    }
   ],
   "source": [
    "def func(a, b, c=5):\n",
    "\n",
    "    print(a, b, c)\n",
    "    \n",
    "func(1, c=3, b=2)\n"
   ]
  },
  {
   "cell_type": "markdown",
   "id": "3314a4e3",
   "metadata": {},
   "source": [
    "- func (a,b,c=5) function is created with paramters a,b,c\n",
    "- func(1,c=3,b=2) function is called and passed arguments 1,c=3,b=2\n",
    "- so a=1, b=2 , c=3 instead of 5 will be printed \n",
    "- output 1,2,3"
   ]
  },
  {
   "cell_type": "markdown",
   "id": "611937a1",
   "metadata": {},
   "source": [
    "#### 3. How about this code: what is its result, and why?\n",
    "    \n",
    "def func(a, *pargs):\n",
    "\n",
    "    print(a, pargs)\n",
    "\n",
    "func(1, 2, 3)\n"
   ]
  },
  {
   "cell_type": "code",
   "execution_count": 6,
   "id": "c676b831",
   "metadata": {},
   "outputs": [
    {
     "name": "stdout",
     "output_type": "stream",
     "text": [
      "1 (2, 3)\n"
     ]
    }
   ],
   "source": [
    "def func(a, *pargs):\n",
    "\n",
    "    print(a, pargs)\n",
    "\n",
    "func(1, 2, 3)"
   ]
  },
  {
   "cell_type": "markdown",
   "id": "b1718f76",
   "metadata": {},
   "source": [
    "- func (a,*pargs) function is created with paramters a,*pargs is any number of arguments can be passed \n",
    "- func(1,2,3) function is called and passed arguments 1,(2,3)\n",
    "- so a=1, *pargs=(2,3) \n",
    "- output 1,(2,3)"
   ]
  },
  {
   "cell_type": "markdown",
   "id": "6306c030",
   "metadata": {},
   "source": [
    "#### 4. What does this code print, and why?\n",
    "\n",
    "def func(a, **kargs):\n",
    "    \n",
    "    print(a, kargs)\n",
    "\n",
    "func(a=1, c=3, b=2)\n",
    "\n"
   ]
  },
  {
   "cell_type": "code",
   "execution_count": 8,
   "id": "9e52e9a6",
   "metadata": {},
   "outputs": [
    {
     "name": "stdout",
     "output_type": "stream",
     "text": [
      "1 {'c': 3, 'b': 2}\n"
     ]
    }
   ],
   "source": [
    "def func(a, **kargs):\n",
    "    \n",
    "    print(a, kargs)\n",
    "\n",
    "func(a=1, c=3, b=2)"
   ]
  },
  {
   "cell_type": "markdown",
   "id": "4d64fc41",
   "metadata": {},
   "source": [
    "- func (a,*kargs) function is created with paramters a,*kargs is any number of arguments can be passed with keywords \n",
    "- func(a=1,c=3,b=2) function is called and passed arguments a=1,*kargs\n",
    "- so a=1, *kargs=(c=3,b=2) \n",
    "- output 1,{'c':3,'b':2}"
   ]
  },
  {
   "cell_type": "markdown",
   "id": "03da6bcf",
   "metadata": {},
   "source": [
    "#### 5. What gets printed by this, and explain?\n",
    "\n",
    "def func(a, b, c=8, d=5): \n",
    "\n",
    "    print(a, b, c, d)\n",
    "\n",
    "func(1, *(5, 6))\n"
   ]
  },
  {
   "cell_type": "code",
   "execution_count": 10,
   "id": "8454bfe1",
   "metadata": {},
   "outputs": [
    {
     "name": "stdout",
     "output_type": "stream",
     "text": [
      "1 5 6 5\n"
     ]
    }
   ],
   "source": [
    "def func(a, b, c=8, d=5): \n",
    "\n",
    "    print(a, b, c, d)\n",
    "\n",
    "func(1, *(5, 6))\n"
   ]
  },
  {
   "cell_type": "markdown",
   "id": "aa7d2c24",
   "metadata": {},
   "source": [
    "- func (a,b,c=8,d=5) function is created with paramters a,b,c=8,d=5  \n",
    "- func(a=1,*(5,6)) function is called and passed arguments a=1,*(5,6)\n",
    "- so a=1,b=5,c=6,d=5 \n",
    "- output 1,5,6,5"
   ]
  },
  {
   "cell_type": "markdown",
   "id": "cf2c1564",
   "metadata": {},
   "source": [
    "#### 6. what is the result of this, and explain?\n",
    "\n",
    "def func(a, b, c): \n",
    "\n",
    "    a = 2; b[0] = 'x'; c['a'] = 'y'\n",
    "\n",
    "    l=1; m=[1]; n={'a':0}\n",
    "\n",
    "func(l, m, n)\n",
    "\n",
    "l, m, n"
   ]
  },
  {
   "cell_type": "code",
   "execution_count": 14,
   "id": "8b2c2605",
   "metadata": {},
   "outputs": [
    {
     "data": {
      "text/plain": [
       "(1, ['x'], {'a': 'y'})"
      ]
     },
     "execution_count": 14,
     "metadata": {},
     "output_type": "execute_result"
    }
   ],
   "source": [
    "def func(a, b, c): \n",
    "\n",
    "    a = 2; b[0] = 'x'; c['a'] = 'y'\n",
    "\n",
    "l=1; m=[1]; n={'a':0}\n",
    "\n",
    "func(l, m, n)\n",
    "\n",
    "l, m, n"
   ]
  },
  {
   "cell_type": "markdown",
   "id": "c2376d3a",
   "metadata": {},
   "source": [
    "- func (a,b,c) function is created with paramters a,b,c\n",
    "- l=1; m=[1]; n={'a':0} \n",
    "- func(l,m,n) function is called and passed arguments l=1,m=[1],n={'a':0}\n",
    "- def (a=1,b=[1],c={'a':0})\n",
    "- 1,['x'],{'a':'y'}"
   ]
  },
  {
   "cell_type": "code",
   "execution_count": null,
   "id": "b6eb3733",
   "metadata": {},
   "outputs": [],
   "source": []
  }
 ],
 "metadata": {
  "kernelspec": {
   "display_name": "Python 3 (ipykernel)",
   "language": "python",
   "name": "python3"
  },
  "language_info": {
   "codemirror_mode": {
    "name": "ipython",
    "version": 3
   },
   "file_extension": ".py",
   "mimetype": "text/x-python",
   "name": "python",
   "nbconvert_exporter": "python",
   "pygments_lexer": "ipython3",
   "version": "3.10.5"
  }
 },
 "nbformat": 4,
 "nbformat_minor": 5
}
