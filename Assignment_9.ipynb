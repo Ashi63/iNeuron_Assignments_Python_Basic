{
 "cells": [
  {
   "cell_type": "code",
   "execution_count": 2,
   "id": "88fa522f",
   "metadata": {},
   "outputs": [],
   "source": [
    "import os"
   ]
  },
  {
   "cell_type": "markdown",
   "id": "39e0c479",
   "metadata": {},
   "source": [
    "#### 1. To what does a relative path refer?"
   ]
  },
  {
   "cell_type": "markdown",
   "id": "b25197a6",
   "metadata": {},
   "source": [
    "- relative path:- \n",
    "\n",
    "    - refer to the path of the file from the current working directory."
   ]
  },
  {
   "cell_type": "code",
   "execution_count": 11,
   "id": "dc1001c2",
   "metadata": {},
   "outputs": [
    {
     "data": {
      "text/plain": [
       "'.'"
      ]
     },
     "execution_count": 11,
     "metadata": {},
     "output_type": "execute_result"
    }
   ],
   "source": [
    "os.path.relpath(os.curdir)"
   ]
  },
  {
   "cell_type": "markdown",
   "id": "eafecd6d",
   "metadata": {},
   "source": [
    "#### 2. What does an absolute path start with your operating system?"
   ]
  },
  {
   "cell_type": "markdown",
   "id": "51c4ee98",
   "metadata": {},
   "source": [
    "- Absolute path start with root folder like C:\\\\ or D:\\\\.\n",
    "- An absolute path always contains the root elements and the complete list of directories to locate the specific file or folder. \n",
    "- All the information required to locate the file or folder is available in the absolute path."
   ]
  },
  {
   "cell_type": "code",
   "execution_count": 6,
   "id": "10fe18d5",
   "metadata": {},
   "outputs": [
    {
     "data": {
      "text/plain": [
       "'D:\\\\Data Science\\\\1. iNeuron\\\\iNeuron Assignment\\\\Python'"
      ]
     },
     "execution_count": 6,
     "metadata": {},
     "output_type": "execute_result"
    }
   ],
   "source": [
    "os.path.abspath(os.getcwd())"
   ]
  },
  {
   "cell_type": "markdown",
   "id": "d982c8c2",
   "metadata": {},
   "source": [
    "#### 3. What do the functions os.getcwd() and os.chdir() do?"
   ]
  },
  {
   "cell_type": "markdown",
   "id": "649b8205",
   "metadata": {},
   "source": [
    "- os.getcwd() gives the absolute path of current working directory."
   ]
  },
  {
   "cell_type": "code",
   "execution_count": 12,
   "id": "7ea59f10",
   "metadata": {},
   "outputs": [
    {
     "data": {
      "text/plain": [
       "'D:\\\\Data Science\\\\1. iNeuron\\\\iNeuron Assignment\\\\Python'"
      ]
     },
     "execution_count": 12,
     "metadata": {},
     "output_type": "execute_result"
    }
   ],
   "source": [
    "os.getcwd()"
   ]
  },
  {
   "cell_type": "markdown",
   "id": "6a629d52",
   "metadata": {},
   "source": [
    "- os.chdir() changes the current working directory."
   ]
  },
  {
   "cell_type": "code",
   "execution_count": null,
   "id": "5cb685c2",
   "metadata": {},
   "outputs": [],
   "source": [
    "os.chdir()"
   ]
  },
  {
   "cell_type": "markdown",
   "id": "cb6c6fc1",
   "metadata": {},
   "source": [
    "#### 4. What are the . and .. folders?"
   ]
  },
  {
   "cell_type": "markdown",
   "id": "8a8c8fb8",
   "metadata": {},
   "source": [
    "- . is the current folder. \n",
    "- .. is the parent folder."
   ]
  },
  {
   "cell_type": "markdown",
   "id": "89e6593b",
   "metadata": {},
   "source": [
    "#### 5. In C:\\bacon\\eggs\\spam.txt, which part is the dir name, and which part is the base name?"
   ]
  },
  {
   "cell_type": "markdown",
   "id": "50e34ca9",
   "metadata": {},
   "source": [
    "- dir name is C:\\bacon\\eggs\\spam.txt\n",
    "- base name is spam.txt"
   ]
  },
  {
   "cell_type": "markdown",
   "id": "ef1e5a84",
   "metadata": {},
   "source": [
    "#### 6. What are the three “mode” arguments that can be passed to the open() function?"
   ]
  },
  {
   "cell_type": "markdown",
   "id": "9e8a0df2",
   "metadata": {},
   "source": [
    "- Three mode arguments that can be passed to open() function are\n",
    "    - 'r' read mode.\n",
    "    - 'w' write mode.\n",
    "    - 'a' append mode.\n",
    "    "
   ]
  },
  {
   "cell_type": "markdown",
   "id": "0b981483",
   "metadata": {},
   "source": [
    "#### 7. What happens if an existing file is opened in write mode?"
   ]
  },
  {
   "cell_type": "markdown",
   "id": "59c5cdd1",
   "metadata": {},
   "source": [
    "- If a file is opened in write mode it creates an empty file for output operations, \n",
    "- If file is already present with the same name then the content of file is discarded, and treated as new empty file."
   ]
  },
  {
   "cell_type": "markdown",
   "id": "7578f189",
   "metadata": {},
   "source": [
    "#### 8. How do you tell the difference between read() and readlines()?"
   ]
  },
  {
   "cell_type": "markdown",
   "id": "ee5c97db",
   "metadata": {},
   "source": [
    "- read() reads whole content into string gives output as single string.\n",
    "- readlines() reads the documents line by line and returns list of lines (strings), where each string is a line from the file's content."
   ]
  },
  {
   "cell_type": "markdown",
   "id": "51c39cd9",
   "metadata": {},
   "source": [
    "#### 9. What data structure does a shelf value resemble?"
   ]
  },
  {
   "cell_type": "markdown",
   "id": "b4ab13cb",
   "metadata": {},
   "source": [
    "- A shelf value resembles a dictionary value; it has keys and values, along with keys() and values() methods that work similarly to the dictionary methods of the same names."
   ]
  },
  {
   "cell_type": "markdown",
   "id": "50dfc0f9",
   "metadata": {},
   "source": []
  }
 ],
 "metadata": {
  "kernelspec": {
   "display_name": "Python 3 (ipykernel)",
   "language": "python",
   "name": "python3"
  },
  "language_info": {
   "codemirror_mode": {
    "name": "ipython",
    "version": 3
   },
   "file_extension": ".py",
   "mimetype": "text/x-python",
   "name": "python",
   "nbconvert_exporter": "python",
   "pygments_lexer": "ipython3",
   "version": "3.10.5"
  }
 },
 "nbformat": 4,
 "nbformat_minor": 5
}
