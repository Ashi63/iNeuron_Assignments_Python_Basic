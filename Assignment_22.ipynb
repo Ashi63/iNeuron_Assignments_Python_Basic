{
 "cells": [
  {
   "cell_type": "markdown",
   "id": "888fbf07",
   "metadata": {},
   "source": [
    "#### 1. What is the result of the code, and explain?\n",
    "\n",
    "\n",
    "X = 'iNeuron'\n",
    "\n",
    "def func():\n",
    "\n",
    "    print(X)\n",
    "\n",
    "\n",
    "func()\n"
   ]
  },
  {
   "cell_type": "code",
   "execution_count": 7,
   "id": "65951e82",
   "metadata": {},
   "outputs": [
    {
     "name": "stdout",
     "output_type": "stream",
     "text": [
      "iNeuron\n"
     ]
    }
   ],
   "source": [
    "X = 'iNeuron'\n",
    "def func():\n",
    "    print(X)\n",
    "func()"
   ]
  },
  {
   "cell_type": "markdown",
   "id": "b385c01c",
   "metadata": {},
   "source": [
    "- On calling function func(), it will print X which is the code written in function func(),\n",
    "\n",
    "- X = 'iNeuron' ------> it will assign the variable X with 'iNeuron'\n",
    "\n",
    "- def func():   ------> function named func() is created.\n",
    "\n",
    "- print(X)      ------> it will print variable X\n",
    "\n",
    "- func()        ------> it will call the function and will do operations mentioned inside the func() function i.e printing the variable iNeuron."
   ]
  },
  {
   "cell_type": "markdown",
   "id": "32bd9285",
   "metadata": {},
   "source": [
    "#### 2. What is the result of the code, and explain?\n",
    "\n",
    "\n",
    "X = 'iNeuron'\n",
    "\n",
    "def func():\n",
    "\n",
    "X = 'NI!'\n",
    "\n",
    "\n",
    "func()\n",
    "\n",
    "print(X)\n",
    "\n",
    "\n"
   ]
  },
  {
   "cell_type": "code",
   "execution_count": 8,
   "id": "488954bd",
   "metadata": {},
   "outputs": [
    {
     "name": "stdout",
     "output_type": "stream",
     "text": [
      "iNeuron\n"
     ]
    }
   ],
   "source": [
    "X = 'iNeuron'\n",
    "def func():\n",
    "    X = 'NI!'\n",
    "\n",
    "\n",
    "func()\n",
    "print(X)\n"
   ]
  },
  {
   "cell_type": "markdown",
   "id": "3b66c485",
   "metadata": {},
   "source": [
    "- Flow of program\n",
    "    - X = 'iNeuron'  ------> creates a variable named X.\n",
    "    - def func():    ------> function func() created.\n",
    "    - X = 'NI!'      ------> inside function func() variable X is created. \n",
    "    - func()         ------> calling function func(), nothing happens as there is no operation inside the func() \n",
    "    - print(X)       ------> print variabe X which will print global varaible X and iNeuron is printed.\n",
    " "
   ]
  },
  {
   "cell_type": "markdown",
   "id": "67304983",
   "metadata": {},
   "source": [
    "#### 3. What does this code print, and why?\n",
    "\n",
    "\n",
    "X = 'iNeuron'\n",
    "\n",
    "def func():\n",
    "\n",
    "    X = 'NI'\n",
    "\n",
    "    print(X)\n",
    "\n",
    "\n",
    "func()\n",
    "print(X)\n",
    "\n",
    "\n",
    "\n"
   ]
  },
  {
   "cell_type": "code",
   "execution_count": 9,
   "id": "30fedfeb",
   "metadata": {},
   "outputs": [
    {
     "name": "stdout",
     "output_type": "stream",
     "text": [
      "NI\n",
      "iNeuron\n"
     ]
    }
   ],
   "source": [
    "X = 'iNeuron'\n",
    "def func():\n",
    "    X = 'NI'\n",
    "    print(X)\n",
    "\n",
    "\n",
    "func()\n",
    "print(X)\n",
    "    "
   ]
  },
  {
   "cell_type": "markdown",
   "id": "12cd780f",
   "metadata": {},
   "source": [
    "- Flow of program\n",
    "    - X = 'iNeuron'  ------> creates a variable named X. and 'iNeuron' is assigned to it.\n",
    "    - def func():    ------> function func() created.\n",
    "    - X = 'NI!'      ------> inside function func() variable X is created and 'NI' is assigned to it. \n",
    "    - print(x)       ------> this will print the X when called, which is inside the function func() ie 'NI'.\n",
    "    - func()         ------> calling function func(), will print the 'NI' as print operation is mentioned inside the fun(). \n",
    "    - print(X)       ------> print variabe X which will print global varaible X and 'iNeuron' is printed."
   ]
  },
  {
   "cell_type": "markdown",
   "id": "e2fb2ad4",
   "metadata": {},
   "source": [
    "#### 4. What output does this code produce? Why?\n",
    "\n",
    "\n",
    ">>> X = 'iNeuron'\n",
    ">>> def func():\n",
    "global X\n",
    "X = 'NI'\n",
    "\n",
    "\n",
    ">>> func()\n",
    ">>> print(X)\n",
    "\n",
    "\n"
   ]
  },
  {
   "cell_type": "code",
   "execution_count": 10,
   "id": "2977257b",
   "metadata": {},
   "outputs": [
    {
     "name": "stdout",
     "output_type": "stream",
     "text": [
      "NI\n"
     ]
    }
   ],
   "source": [
    "X = 'iNeuron'\n",
    "def func():\n",
    "    global X\n",
    "    X = 'NI'\n",
    "    \n",
    "func()\n",
    "print(X)"
   ]
  },
  {
   "cell_type": "markdown",
   "id": "2ba882f6",
   "metadata": {},
   "source": [
    "- Flow of program\n",
    "    - X = 'iNeuron'  ------> creates a global variable named X. and 'iNeuron' is assigned to it.\n",
    "    - def func():    ------> function func() created.\n",
    "    - func()         ------> calling function func().\n",
    "    - inside func()  ------> sees variable global X\n",
    "    - X = 'NI!'      ------> inside function func() variable X is created and 'NI' is assigned to global variable. \n",
    "    - print(x)       ------> this will print'NI'."
   ]
  },
  {
   "cell_type": "markdown",
   "id": "155d42c0",
   "metadata": {},
   "source": [
    "#### 5. What about this code—what’s the output, and why?\n",
    "\n",
    "\n",
    "X = 'iNeuron'\n",
    "\n",
    "def func():\n",
    "    X = 'NI'\n",
    "    def nested():\n",
    "        print(X)\n",
    "       nested()\n",
    "\n",
    "\n",
    "func()\n",
    "X\n",
    "\n",
    "\n"
   ]
  },
  {
   "cell_type": "code",
   "execution_count": 11,
   "id": "b7bc5f0d",
   "metadata": {},
   "outputs": [
    {
     "name": "stdout",
     "output_type": "stream",
     "text": [
      "NI\n",
      "iNeuron\n"
     ]
    }
   ],
   "source": [
    "X = 'iNeuron'\n",
    "\n",
    "def func():\n",
    "    X = 'NI'\n",
    "    def nested():\n",
    "        print(X)\n",
    "    nested()\n",
    "\n",
    "\n",
    "func()\n",
    "print(X)\n"
   ]
  },
  {
   "cell_type": "markdown",
   "id": "1820ef2a",
   "metadata": {},
   "source": [
    "- Flow of program\n",
    "    - X = 'iNeuron'  ------> creates a global variable named X. and 'iNeuron' is assigned to it.\n",
    "    - def func():    ------> function func() created.\n",
    "    - func()         ------> calling function func().\n",
    "        - inside func()  ------> variable X is created and assigned value 'NI' to it.\n",
    "    - def nested()   ------> function nested() created.\n",
    "    - nested()       ------> calling function nested().\n",
    "        - inside nested()------>   variable X is printed that is 'NI' will be printed.\n",
    "    \n",
    "    \n",
    "     - X              ------> global variable X is printed i.e 'iNeuron is printed'\n",
    "    "
   ]
  },
  {
   "cell_type": "markdown",
   "id": "86ebfd73",
   "metadata": {},
   "source": [
    "#### 6. How about this code: what is its output in Python 3, and explain?\n",
    "\n",
    "\n",
    "def func():\n",
    "\n",
    "    X = 'NI'\n",
    "\n",
    "    def nested():\n",
    "    \n",
    "        nonlocal X\n",
    "\n",
    "        X = 'Spam'\n",
    "    \n",
    "    nested()\n",
    "    \n",
    "    print(X)\n",
    "\n",
    "func()\n"
   ]
  },
  {
   "cell_type": "code",
   "execution_count": 12,
   "id": "1f73e06f",
   "metadata": {},
   "outputs": [
    {
     "name": "stdout",
     "output_type": "stream",
     "text": [
      "Spam\n"
     ]
    }
   ],
   "source": [
    "\n",
    "def func():\n",
    "    X = 'NI'\n",
    "    def nested():\n",
    "        nonlocal X\n",
    "        X = 'Spam'\n",
    "    nested()\n",
    "    print(X)\n",
    "\n",
    "func()"
   ]
  },
  {
   "cell_type": "markdown",
   "id": "3c1f5072",
   "metadata": {},
   "source": [
    "- Flow of program\n",
    "    - def func():    ------> function func() created.\n",
    "    - func()         ------> calling function func().\n",
    "        - inside func()  ------> variable X is created and assigned value 'NI' to it.\n",
    "    - def nested()   ------> function nested() created.\n",
    "    - nested()       ------> calling function nested().\n",
    "        - inside nested()------>   variable X is assigned 'Spam' nonlocal means above X = 'NI' will be replaced by 'Spam'\n",
    "        - print(X)       ------> it will print X where 'Spam' is assigned so 'Spam' will be printed"
   ]
  },
  {
   "cell_type": "code",
   "execution_count": null,
   "id": "9afec295",
   "metadata": {},
   "outputs": [],
   "source": []
  }
 ],
 "metadata": {
  "kernelspec": {
   "display_name": "Python 3 (ipykernel)",
   "language": "python",
   "name": "python3"
  },
  "language_info": {
   "codemirror_mode": {
    "name": "ipython",
    "version": 3
   },
   "file_extension": ".py",
   "mimetype": "text/x-python",
   "name": "python",
   "nbconvert_exporter": "python",
   "pygments_lexer": "ipython3",
   "version": "3.10.5"
  }
 },
 "nbformat": 4,
 "nbformat_minor": 5
}
