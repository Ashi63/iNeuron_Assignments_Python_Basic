{
 "cells": [
  {
   "cell_type": "markdown",
   "id": "f61c0fb8",
   "metadata": {},
   "source": [
    "#### 1. Create an assert statement that throws an AssertionError if the variable spam is a negative integer."
   ]
  },
  {
   "cell_type": "markdown",
   "id": "8bf865b2",
   "metadata": {},
   "source": [
    "- assert statement is used when debugging the program.\n",
    "- The assert keyword lets you test if a condition in your code returns True, if not, the program will raise an AssertionError.\n",
    "- You can write a message to be written if the code returns False"
   ]
  },
  {
   "cell_type": "code",
   "execution_count": 30,
   "id": "92ced010",
   "metadata": {},
   "outputs": [
    {
     "ename": "AssertionError",
     "evalue": "Spam is negative integer",
     "output_type": "error",
     "traceback": [
      "\u001b[1;31m---------------------------------------------------------------------------\u001b[0m",
      "\u001b[1;31mAssertionError\u001b[0m                            Traceback (most recent call last)",
      "Cell \u001b[1;32mIn[30], line 2\u001b[0m\n\u001b[0;32m      1\u001b[0m spam \u001b[38;5;241m=\u001b[39m \u001b[38;5;241m1\u001b[39m\n\u001b[1;32m----> 2\u001b[0m \u001b[38;5;28;01massert\u001b[39;00m spam \u001b[38;5;241m<\u001b[39m \u001b[38;5;241m0\u001b[39m,\u001b[38;5;124m\"\u001b[39m\u001b[38;5;124mSpam is negative integer\u001b[39m\u001b[38;5;124m\"\u001b[39m\n",
      "\u001b[1;31mAssertionError\u001b[0m: Spam is negative integer"
     ]
    }
   ],
   "source": [
    "spam = 1\n",
    "assert spam < 0,\"Spam is negative integer\""
   ]
  },
  {
   "cell_type": "markdown",
   "id": "d001187e",
   "metadata": {},
   "source": [
    "\n",
    "#### 2. Write an assert statement that triggers an AssertionError if the variables eggs and bacon contain strings that are the same as each other, even if their cases are different (that is, 'hello' and 'hello' are considered the same, and 'goodbye' and 'GOODbye' are also considered the same)."
   ]
  },
  {
   "cell_type": "code",
   "execution_count": null,
   "id": "82e4699a",
   "metadata": {},
   "outputs": [],
   "source": [
    "eggs = 'goodbye'\n",
    "bacon = 'GOODbye'\n",
    "\n",
    "assert eggs.lower() != bacon.lower(), \"Eggs and becon are same\"\n",
    "assert eggs.upper() != bacon.upper(), \"Eggs and becon are same\""
   ]
  },
  {
   "cell_type": "markdown",
   "id": "f5d8288d",
   "metadata": {},
   "source": [
    "#### 3. Create an assert statement that throws an AssertionError every time."
   ]
  },
  {
   "cell_type": "code",
   "execution_count": null,
   "id": "78239097",
   "metadata": {},
   "outputs": [],
   "source": [
    "assert False,\"Always Assertion Error\""
   ]
  },
  {
   "cell_type": "markdown",
   "id": "27d8b38c",
   "metadata": {},
   "source": [
    "#### 4. What are the two lines that must be present in your software in order to call logging.debug()?"
   ]
  },
  {
   "cell_type": "code",
   "execution_count": null,
   "id": "05b49daa",
   "metadata": {},
   "outputs": [],
   "source": [
    "import logging\n",
    "\n",
    "logging.basicConfig(level = logging.DEBUG, format = '%(asctime)s - %(levelname)s - %(message)s')"
   ]
  },
  {
   "cell_type": "markdown",
   "id": "7bcee9c7",
   "metadata": {},
   "source": [
    "#### 5. What are the two lines that your program must have in order to have logging.debug() send a logging message to a file named programLog.txt?"
   ]
  },
  {
   "cell_type": "code",
   "execution_count": null,
   "id": "2a519fd1",
   "metadata": {},
   "outputs": [],
   "source": [
    "import logging\n",
    "logging.basicConfig(filename='programLog.txt', level=logging.DEBUG, format=' %(asctime)s - %(levelname)s - %(message)s')"
   ]
  },
  {
   "cell_type": "markdown",
   "id": "0e6dac39",
   "metadata": {},
   "source": [
    "#### 6. What are the five levels of logging?"
   ]
  },
  {
   "cell_type": "markdown",
   "id": "dcd0f367",
   "metadata": {},
   "source": [
    "- DEBUG     These are used to give Detailed information, typically of interest only when diagnosing problems\n",
    "- INFO      These are used to confirm that things are working as expected\n",
    "- WARNING   These are used an indication that something unexpected happened, or is indicative of some problem in the near future\n",
    "- ERROR     This tells that due to a more serious problem, the software has not been able to perform some function\n",
    "- CRITICAL  This tells serious error, indicating that the program itself may be unable to continue running"
   ]
  },
  {
   "cell_type": "markdown",
   "id": "8d5a1487",
   "metadata": {},
   "source": [
    "#### 7. What line of code would you add to your software to disable all logging messages?"
   ]
  },
  {
   "cell_type": "code",
   "execution_count": null,
   "id": "8efbdfdb",
   "metadata": {},
   "outputs": [],
   "source": [
    "logging.disable(logging.CRITICAL)"
   ]
  },
  {
   "cell_type": "markdown",
   "id": "7c7d0f6c",
   "metadata": {},
   "source": [
    "#### 8.Why is using logging messages better than using print() to display the same message?"
   ]
  },
  {
   "cell_type": "markdown",
   "id": "53c4f777",
   "metadata": {},
   "source": [
    "- Print messages can not be saved to every type of file.\n",
    "- Print messages are first converted into text strings. Developers can use the file argument in print to save messages to file. However, it must be an object with a write (string) method as it is not possible to write messages to binary files.\n",
    "- Print statements are difficult to categorize."
   ]
  },
  {
   "cell_type": "markdown",
   "id": "d00e713d",
   "metadata": {},
   "source": [
    "#### 9. What are the differences between the Step Over, Step In, and Step Out buttons in the debugger?"
   ]
  },
  {
   "cell_type": "markdown",
   "id": "be03239d",
   "metadata": {},
   "source": [
    "- Step Over Steps over the current line of code and takes you to the next line even if the highlighted line has method calls in it. The implementation of the methods is skipped, and you move straight to the next line of the caller method.\n",
    "- Step In   Steps into the method to show what happens inside it. Use this option when you are not sure the method is returning a correct result.\n",
    "- Step Out  Steps out of the current method and takes you to the caller method."
   ]
  },
  {
   "cell_type": "markdown",
   "id": "54da0eee",
   "metadata": {},
   "source": [
    "#### 10.After you click Continue, when will the debugger stop ?"
   ]
  },
  {
   "cell_type": "markdown",
   "id": "b1f303f4",
   "metadata": {},
   "source": [
    "- The debugger will stop when it has reached the end of the program or a line with a breakpoint."
   ]
  },
  {
   "cell_type": "markdown",
   "id": "f5dc8ea9",
   "metadata": {},
   "source": [
    "#### 11. What is the concept of a breakpoint?"
   ]
  },
  {
   "cell_type": "markdown",
   "id": "bc446466",
   "metadata": {},
   "source": [
    "- Breakpoint is a setting on a line of code that causes the debugger to pause when the program execution reaches the line"
   ]
  }
 ],
 "metadata": {
  "kernelspec": {
   "display_name": "Python 3 (ipykernel)",
   "language": "python",
   "name": "python3"
  },
  "language_info": {
   "codemirror_mode": {
    "name": "ipython",
    "version": 3
   },
   "file_extension": ".py",
   "mimetype": "text/x-python",
   "name": "python",
   "nbconvert_exporter": "python",
   "pygments_lexer": "ipython3",
   "version": "3.10.5"
  }
 },
 "nbformat": 4,
 "nbformat_minor": 5
}
