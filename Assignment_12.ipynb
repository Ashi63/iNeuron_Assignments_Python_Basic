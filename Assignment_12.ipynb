{
 "cells": [
  {
   "cell_type": "markdown",
   "id": "30d52795",
   "metadata": {},
   "source": [
    "#### 1. In what modes should the PdfFileReader() and PdfFileWriter() File objects will be opened?"
   ]
  },
  {
   "cell_type": "markdown",
   "id": "9ecd0097",
   "metadata": {},
   "source": [
    "- PdfFileReader() needs to be opened in read-binary mode by passing 'rb' as the second argument to open() the File object passed to PyPDF2.\n",
    "- PdfFileWriter() needs to be opened in write-binary mode with 'wb'."
   ]
  },
  {
   "cell_type": "markdown",
   "id": "52dd91ed",
   "metadata": {},
   "source": [
    "#### 2. From a PdfFileReader object, how do you get a Page object for page 5?"
   ]
  },
  {
   "cell_type": "markdown",
   "id": "e22f33c5",
   "metadata": {},
   "source": [
    "- getPage(4)"
   ]
  },
  {
   "cell_type": "markdown",
   "id": "3f6ea7d7",
   "metadata": {},
   "source": [
    "#### 3. What PdfFileReader variable stores the number of pages in the PDF document?"
   ]
  },
  {
   "cell_type": "markdown",
   "id": "51b747e0",
   "metadata": {},
   "source": [
    "- Stored in the numPages variable of a PdfFileReader object"
   ]
  },
  {
   "cell_type": "markdown",
   "id": "3f3ca032",
   "metadata": {},
   "source": [
    "#### 4. If a PdfFileReader object’s PDF is encrypted with the password swordfish, what must you do before you can obtain Page objects from it?"
   ]
  },
  {
   "cell_type": "markdown",
   "id": "3d0545b4",
   "metadata": {},
   "source": [
    "- To read an encrypted PDF, call the decrypt() function and pass the password 'swordfish' as a string.\n",
    "- Call decrypt('swordfish')."
   ]
  },
  {
   "cell_type": "markdown",
   "id": "509d85d2",
   "metadata": {},
   "source": [
    "#### 5. What methods do you use to rotate a page?"
   ]
  },
  {
   "cell_type": "markdown",
   "id": "de7cdb77",
   "metadata": {},
   "source": [
    "- PDF can be rotated in 90-degree increments.\n",
    "- rotateClockwise() method.\n",
    "- rotateCounterClockwise() method."
   ]
  },
  {
   "cell_type": "markdown",
   "id": "ec11c427",
   "metadata": {},
   "source": [
    "#### 6. What is the difference between a Run object and a Paragraph object?"
   ]
  },
  {
   "cell_type": "markdown",
   "id": "dea864d1",
   "metadata": {},
   "source": [
    "- A document contains multiple paragraphs. A paragraph begins on a new line and contains multiple runs.\n",
    "- Runs are contiguous groups of charecters within a paragraph."
   ]
  },
  {
   "cell_type": "markdown",
   "id": "0ccd47f4",
   "metadata": {},
   "source": [
    "#### 7. How do you obtain a list of Paragraph objects for a Document object that’s stored in a variable named doc?"
   ]
  },
  {
   "cell_type": "markdown",
   "id": "24798dad",
   "metadata": {},
   "source": [
    "- len(doc.paragraphs)"
   ]
  },
  {
   "cell_type": "markdown",
   "id": "78903ded",
   "metadata": {},
   "source": [
    "#### 8. What type of object has bold, underline, italic, strike, and outline variables?"
   ]
  },
  {
   "cell_type": "markdown",
   "id": "43779d21",
   "metadata": {},
   "source": [
    "- Run Object"
   ]
  },
  {
   "cell_type": "markdown",
   "id": "4166ec9b",
   "metadata": {},
   "source": [
    "#### 9. What is the difference between False, True, and None for the bold variable?"
   ]
  },
  {
   "cell_type": "markdown",
   "id": "5a4c714a",
   "metadata": {},
   "source": [
    "- True always makes the run object bolded and\n",
    "- False makes it always not bolded, no matter what the style's bold settings is. \n",
    "- None will make the Run object just use the style's bold settings."
   ]
  },
  {
   "cell_type": "markdown",
   "id": "fc6f146e",
   "metadata": {},
   "source": [
    "#### 10. How do you create a Document object for a new Word document?"
   ]
  },
  {
   "cell_type": "markdown",
   "id": "dc3bd514",
   "metadata": {},
   "source": [
    "mydoc = docx.Document()"
   ]
  },
  {
   "cell_type": "markdown",
   "id": "357df00e",
   "metadata": {},
   "source": [
    "#### 11. How do you add a paragraph with the text 'Hello, there!' to a Document object stored in a variable named doc?"
   ]
  },
  {
   "cell_type": "markdown",
   "id": "84d2c59d",
   "metadata": {},
   "source": [
    "- doc.add_paragraph('Hello, there!')"
   ]
  },
  {
   "cell_type": "markdown",
   "id": "d6d46a68",
   "metadata": {},
   "source": [
    "#### 12. What integers represent the levels of headings available in Word documents?"
   ]
  },
  {
   "cell_type": "markdown",
   "id": "a346eb10",
   "metadata": {},
   "source": [
    "- The arguments to add_heading() are a string of the heading text and an integer from 0 to 4. The integer 0 makes the heading the Title style, which is used for the top of the document. Integers 1 to 4 are for various heading levels, with 1 being the main heading and 4 the lowest subheading. The add_heading() function returns a Paragraph object to save you the step of extracting it from the Document object as a separate step."
   ]
  },
  {
   "cell_type": "code",
   "execution_count": null,
   "id": "dc543f80",
   "metadata": {},
   "outputs": [],
   "source": []
  }
 ],
 "metadata": {
  "kernelspec": {
   "display_name": "Python 3 (ipykernel)",
   "language": "python",
   "name": "python3"
  },
  "language_info": {
   "codemirror_mode": {
    "name": "ipython",
    "version": 3
   },
   "file_extension": ".py",
   "mimetype": "text/x-python",
   "name": "python",
   "nbconvert_exporter": "python",
   "pygments_lexer": "ipython3",
   "version": "3.10.5"
  }
 },
 "nbformat": 4,
 "nbformat_minor": 5
}
