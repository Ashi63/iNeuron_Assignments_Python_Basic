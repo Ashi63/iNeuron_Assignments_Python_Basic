{
 "cells": [
  {
   "cell_type": "markdown",
   "id": "a9c6f3a7",
   "metadata": {},
   "source": [
    "#### 1. Add the current date to the text file today.txt as a string.\n"
   ]
  },
  {
   "cell_type": "code",
   "execution_count": null,
   "id": "39905dca",
   "metadata": {},
   "outputs": [],
   "source": [
    "from datetime import date\n",
    "today_date   = date.today()\n",
    "current_date = today_date.isoformat()\n",
    "with open('today.txt','w') as file:\n",
    "    file.write(current_date)"
   ]
  },
  {
   "cell_type": "markdown",
   "id": "b02188fb",
   "metadata": {},
   "source": [
    "#### 2. Read the text file today.txt into the string today_string\n",
    "\n"
   ]
  },
  {
   "cell_type": "code",
   "execution_count": null,
   "id": "121fea17",
   "metadata": {},
   "outputs": [],
   "source": [
    "with open('today.txt','r') as file:\n",
    "    today_string = file.read()\n",
    "print(today_string)"
   ]
  },
  {
   "cell_type": "markdown",
   "id": "b5b3cd4c",
   "metadata": {},
   "source": [
    "#### 3. Parse the date from today_string.\n"
   ]
  },
  {
   "cell_type": "code",
   "execution_count": null,
   "id": "46ba52e1",
   "metadata": {},
   "outputs": [],
   "source": [
    "from datetime import datetime\n",
    "formate = '%Y-%m-%d'\n",
    "datetime.strptime(today_string,formate)"
   ]
  },
  {
   "cell_type": "markdown",
   "id": "0c3ff59f",
   "metadata": {},
   "source": [
    "#### 4. List the files in your current directory\n"
   ]
  },
  {
   "cell_type": "code",
   "execution_count": null,
   "id": "66d3e339",
   "metadata": {},
   "outputs": [],
   "source": [
    "import os \n",
    "os.listdir()"
   ]
  },
  {
   "cell_type": "markdown",
   "id": "f00bbef8",
   "metadata": {},
   "source": [
    "#### 5. Create a list of all of the files in your parent directory (minimum five files should be available).\n"
   ]
  },
  {
   "cell_type": "code",
   "execution_count": null,
   "id": "9032ed7b",
   "metadata": {},
   "outputs": [],
   "source": [
    "list_of_dir = os.listdir()\n",
    "list_of_dir"
   ]
  },
  {
   "cell_type": "markdown",
   "id": "7f180295",
   "metadata": {},
   "source": [
    "#### 6. Use multiprocessing to create three separate processes. Make each one wait a random number of seconds between one and five, print the current time, and then exit.\n"
   ]
  },
  {
   "cell_type": "code",
   "execution_count": null,
   "id": "07a6ff00",
   "metadata": {},
   "outputs": [],
   "source": [
    "!python multi_process.py"
   ]
  },
  {
   "cell_type": "markdown",
   "id": "8bde8bb0",
   "metadata": {},
   "source": [
    "#### 7. Create a date object of your day of birth.\n"
   ]
  },
  {
   "cell_type": "code",
   "execution_count": 40,
   "id": "bfb5f087",
   "metadata": {},
   "outputs": [
    {
     "data": {
      "text/plain": [
       "datetime.date(1988, 3, 6)"
      ]
     },
     "execution_count": 40,
     "metadata": {},
     "output_type": "execute_result"
    }
   ],
   "source": [
    "my_dob = date(1988,3,6)\n",
    "my_dob"
   ]
  },
  {
   "cell_type": "markdown",
   "id": "aefb6322",
   "metadata": {},
   "source": [
    "#### 8. What day of the week was your day of birth?\n"
   ]
  },
  {
   "cell_type": "code",
   "execution_count": 37,
   "id": "539708a4",
   "metadata": {},
   "outputs": [
    {
     "data": {
      "text/plain": [
       "6"
      ]
     },
     "execution_count": 37,
     "metadata": {},
     "output_type": "execute_result"
    }
   ],
   "source": [
    "my_dob.weekday()"
   ]
  },
  {
   "cell_type": "markdown",
   "id": "cd289a51",
   "metadata": {},
   "source": [
    "#### 9. When will you be (or when were you) 10,000 days old?"
   ]
  },
  {
   "cell_type": "code",
   "execution_count": 39,
   "id": "6fec26cc",
   "metadata": {},
   "outputs": [
    {
     "data": {
      "text/plain": [
       "datetime.date(1990, 12, 1)"
      ]
     },
     "execution_count": 39,
     "metadata": {},
     "output_type": "execute_result"
    }
   ],
   "source": [
    "from datetime import timedelta\n",
    "ten_thousand = my_dob + timedelta(days=1000)\n",
    "ten_thousand"
   ]
  },
  {
   "cell_type": "code",
   "execution_count": null,
   "id": "68c54499",
   "metadata": {},
   "outputs": [],
   "source": []
  }
 ],
 "metadata": {
  "kernelspec": {
   "display_name": "Python 3 (ipykernel)",
   "language": "python",
   "name": "python3"
  },
  "language_info": {
   "codemirror_mode": {
    "name": "ipython",
    "version": 3
   },
   "file_extension": ".py",
   "mimetype": "text/x-python",
   "name": "python",
   "nbconvert_exporter": "python",
   "pygments_lexer": "ipython3",
   "version": "3.10.5"
  }
 },
 "nbformat": 4,
 "nbformat_minor": 5
}
